{
 "cells": [
  {
   "cell_type": "code",
   "execution_count": 1,
   "metadata": {},
   "outputs": [],
   "source": [
    "import os\n",
    "\n",
    "import glob\n",
    "import time\n",
    "import numpy as np\n",
    "from PIL import Image, ImageOps\n",
    "import matplotlib.pyplot as plt\n",
    "\n",
    "from scipy.ndimage import gaussian_filter, binary_fill_holes\n",
    "from skimage import morphology\n",
    "from skimage.measure import label, regionprops\n",
    "\n",
    "from skimage import filters\n",
    "\n",
    "import matplotlib.pyplot as plt"
   ]
  },
  {
   "cell_type": "code",
   "execution_count": 2,
   "metadata": {},
   "outputs": [],
   "source": [
    "def load_images(files, resize=(256,256)):\n",
    "    images = []\n",
    "    for file in files:\n",
    "        im = Image.open(file)\n",
    "        im = ImageOps.exif_transpose(im)\n",
    "        if resize:\n",
    "            im = im.resize(resize)\n",
    "        im = im.convert('L')\n",
    "        images.append(np.array(im))\n",
    "    return np.array(images)"
   ]
  },
  {
   "cell_type": "code",
   "execution_count": 3,
   "metadata": {},
   "outputs": [],
   "source": [
    "BASE_OUTPUT_PATH = 'outputs/segmentation_otsu'"
   ]
  },
  {
   "cell_type": "code",
   "execution_count": 4,
   "metadata": {},
   "outputs": [],
   "source": [
    "mode = ['images', 'masks']\n",
    "BASE_PATH_IMGS = os.path.join('data', mode[0])\n",
    "BASE_PATH_MASKS = os.path.join('data', mode[1])\n",
    "files = glob.glob(os.path.join(BASE_PATH_IMGS, '*'))\n",
    "files_masks = glob.glob(os.path.join(BASE_PATH_MASKS, '*'))"
   ]
  },
  {
   "cell_type": "code",
   "execution_count": 5,
   "metadata": {},
   "outputs": [],
   "source": [
    "images = load_images(files)\n",
    "masks = load_images(files_masks)"
   ]
  },
  {
   "cell_type": "code",
   "execution_count": 13,
   "metadata": {},
   "outputs": [],
   "source": [
    "# Verify the binary images and check if the borders marked as 0 or 1, if not, correct it\n",
    "def verify_binary_image(binary_image):\n",
    "    if np.median(binary_image[0, :]) == 1:\n",
    "        binary_image = 1 - binary_image\n",
    "    return binary_image"
   ]
  },
  {
   "cell_type": "code",
   "execution_count": 7,
   "metadata": {},
   "outputs": [],
   "source": [
    "def thresholding(image):\n",
    "    thresh = filters.threshold_otsu(image)\n",
    "    binary = image > thresh\n",
    "    binary = morphology.remove_small_objects(binary, min_size=64)\n",
    "    binary = morphology.remove_small_holes(binary, area_threshold=64)\n",
    "    return binary\n",
    "\n",
    "def keep_largest_connected_component(segmented_mask):\n",
    "    \"\"\"\n",
    "    Keep only the largest connected component in a segmented binary mask.\n",
    "\n",
    "    Parameters:\n",
    "        segmented_mask (ndarray): Binary mask from segmentation (0s and 1s).\n",
    "    \n",
    "    Returns:\n",
    "        ndarray: Binary mask with only the largest connected component.\n",
    "    \"\"\"\n",
    "    labeled_mask = label(segmented_mask)\n",
    "    \n",
    "    largest_component = max(regionprops(labeled_mask), key=lambda r: r.area)\n",
    "    \n",
    "    largest_mask = (labeled_mask == largest_component.label).astype(np.uint8)\n",
    "    return largest_mask\n"
   ]
  },
  {
   "cell_type": "code",
   "execution_count": 19,
   "metadata": {},
   "outputs": [],
   "source": [
    "def run_exp(resize, debug=False):\n",
    "    images = load_images(files, resize=resize)\n",
    "    masks = load_images(files_masks, resize=resize)\n",
    "\n",
    "    t1 = time.time()\n",
    "    for i in range(len(images)):\n",
    "        name = files[i].split('/')[-1][:-4]\n",
    "        image = images[i]\n",
    "        image = gaussian_filter(image, sigma=3)\n",
    "        binary = thresholding(image)\n",
    "\n",
    "        binary = 1 - binary\n",
    "\n",
    "        mask = np.zeros_like(image)\n",
    "        mask[binary > 0.5] = 1\n",
    "        mask = verify_binary_image(mask)\n",
    "        mask = morphology.remove_small_objects(mask.astype('bool'), min_size=64, connectivity=1)\n",
    "        mask = binary_fill_holes(mask).astype('uint8')\n",
    "        mask = keep_largest_connected_component(mask)\n",
    "\n",
    "        mask = Image.fromarray(mask * 255)\n",
    "        out_full_path = os.path.join(BASE_OUTPUT_PATH, f'{resize[0]}x{resize[1]}')\n",
    "        if not os.path.exists(out_full_path):\n",
    "            os.makedirs(out_full_path)\n",
    "        mask.save(os.path.join(out_full_path, f'{name}.png'))\n",
    "\n",
    "        if debug:\n",
    "            plt.figure(figsize=(16, 9))\n",
    "            plt.subplot(2, 3, 1)\n",
    "            plt.imshow(image)\n",
    "            \n",
    "            plt.subplot(2, 3, 2)\n",
    "            plt.imshow(masks[i])\n",
    "            \n",
    "            plt.subplot(2,3,3)\n",
    "            plt.imshow(mask)\n",
    "\n",
    "            plt.show()\n",
    "    \n",
    "    t2 = time.time()\n",
    "    print(f\"Took {t2 - t1} seconds to process {len(images)} images.\")\n"
   ]
  },
  {
   "cell_type": "code",
   "execution_count": 20,
   "metadata": {},
   "outputs": [
    {
     "name": "stdout",
     "output_type": "stream",
     "text": [
      "Took 0.1279003620147705 seconds to process 19 images.\n"
     ]
    }
   ],
   "source": [
    "run_exp((256, 256))"
   ]
  },
  {
   "cell_type": "code",
   "execution_count": 21,
   "metadata": {},
   "outputs": [
    {
     "name": "stdout",
     "output_type": "stream",
     "text": [
      "Took 0.034329891204833984 seconds to process 19 images.\n"
     ]
    }
   ],
   "source": [
    "run_exp((64, 64))"
   ]
  },
  {
   "cell_type": "code",
   "execution_count": 22,
   "metadata": {},
   "outputs": [
    {
     "name": "stdout",
     "output_type": "stream",
     "text": [
      "Took 1.8242249488830566 seconds to process 19 images.\n"
     ]
    }
   ],
   "source": [
    "run_exp((1024, 1024))"
   ]
  }
 ],
 "metadata": {
  "kernelspec": {
   "display_name": "disciplinas",
   "language": "python",
   "name": "python3"
  },
  "language_info": {
   "codemirror_mode": {
    "name": "ipython",
    "version": 3
   },
   "file_extension": ".py",
   "mimetype": "text/x-python",
   "name": "python",
   "nbconvert_exporter": "python",
   "pygments_lexer": "ipython3",
   "version": "3.9.20"
  }
 },
 "nbformat": 4,
 "nbformat_minor": 2
}
